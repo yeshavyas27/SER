{
 "cells": [
  {
   "cell_type": "code",
   "execution_count": 62,
   "id": "ecdafb99",
   "metadata": {},
   "outputs": [],
   "source": [
    "import os\n",
    "import librosa\n",
    "# \n",
    "import pandas as pd\n",
    "import numpy as np\n",
    "from numpy import mean\n",
    "from numpy import std\n",
    "from matplotlib import pyplot\n",
    "# \n",
    "from keras.layers import Dense\n",
    "from keras.models import Sequential\n",
    "from keras.utils import np_utils\n",
    "# \n",
    "from sklearn import preprocessing, svm\n",
    "from sklearn.preprocessing import LabelEncoder\n",
    "from sklearn.linear_model import LogisticRegression\n",
    "from sklearn.model_selection import train_test_split\n",
    "from sklearn.metrics import accuracy_score, classification_report\n",
    "from sklearn.tree import DecisionTreeClassifier\n",
    "from sklearn.ensemble import BaggingClassifier\n",
    "from sklearn.neighbors import KNeighborsClassifier\n",
    "from sklearn.model_selection import cross_val_score\n",
    "from sklearn.model_selection import RepeatedStratifiedKFold\n",
    "from sklearn.ensemble import StackingClassifier\n",
    "from sklearn.ensemble import GradientBoostingClassifier\n",
    "from sklearn.ensemble import HistGradientBoostingClassifier\n",
    "from sklearn.ensemble import VotingClassifier\n",
    "from sklearn.decomposition import PCA\n",
    "from sklearn.metrics import classification_report"
   ]
  },
  {
   "cell_type": "code",
   "execution_count": 4,
   "id": "e818db9d",
   "metadata": {
    "scrolled": true
   },
   "outputs": [
    {
     "data": {
      "text/html": [
       "<div>\n",
       "<style scoped>\n",
       "    .dataframe tbody tr th:only-of-type {\n",
       "        vertical-align: middle;\n",
       "    }\n",
       "\n",
       "    .dataframe tbody tr th {\n",
       "        vertical-align: top;\n",
       "    }\n",
       "\n",
       "    .dataframe thead th {\n",
       "        text-align: right;\n",
       "    }\n",
       "</style>\n",
       "<table border=\"1\" class=\"dataframe\">\n",
       "  <thead>\n",
       "    <tr style=\"text-align: right;\">\n",
       "      <th></th>\n",
       "      <th>Emotions</th>\n",
       "      <th>Path</th>\n",
       "    </tr>\n",
       "  </thead>\n",
       "  <tbody>\n",
       "    <tr>\n",
       "      <th>0</th>\n",
       "      <td>angry</td>\n",
       "      <td>Tess/OAF_back_angry.wav</td>\n",
       "    </tr>\n",
       "    <tr>\n",
       "      <th>1</th>\n",
       "      <td>disgust</td>\n",
       "      <td>Tess/OAF_back_disgust.wav</td>\n",
       "    </tr>\n",
       "    <tr>\n",
       "      <th>2</th>\n",
       "      <td>fear</td>\n",
       "      <td>Tess/OAF_back_fear.wav</td>\n",
       "    </tr>\n",
       "    <tr>\n",
       "      <th>3</th>\n",
       "      <td>happy</td>\n",
       "      <td>Tess/OAF_back_happy.wav</td>\n",
       "    </tr>\n",
       "    <tr>\n",
       "      <th>4</th>\n",
       "      <td>neutral</td>\n",
       "      <td>Tess/OAF_back_neutral.wav</td>\n",
       "    </tr>\n",
       "    <tr>\n",
       "      <th>...</th>\n",
       "      <td>...</td>\n",
       "      <td>...</td>\n",
       "    </tr>\n",
       "    <tr>\n",
       "      <th>2795</th>\n",
       "      <td>fear</td>\n",
       "      <td>Tess/YAF_youth_fear.wav</td>\n",
       "    </tr>\n",
       "    <tr>\n",
       "      <th>2796</th>\n",
       "      <td>happy</td>\n",
       "      <td>Tess/YAF_youth_happy.wav</td>\n",
       "    </tr>\n",
       "    <tr>\n",
       "      <th>2797</th>\n",
       "      <td>neutral</td>\n",
       "      <td>Tess/YAF_youth_neutral.wav</td>\n",
       "    </tr>\n",
       "    <tr>\n",
       "      <th>2798</th>\n",
       "      <td>surprise</td>\n",
       "      <td>Tess/YAF_youth_ps.wav</td>\n",
       "    </tr>\n",
       "    <tr>\n",
       "      <th>2799</th>\n",
       "      <td>sad</td>\n",
       "      <td>Tess/YAF_youth_sad.wav</td>\n",
       "    </tr>\n",
       "  </tbody>\n",
       "</table>\n",
       "<p>2800 rows × 2 columns</p>\n",
       "</div>"
      ],
      "text/plain": [
       "      Emotions                        Path\n",
       "0        angry     Tess/OAF_back_angry.wav\n",
       "1      disgust   Tess/OAF_back_disgust.wav\n",
       "2         fear      Tess/OAF_back_fear.wav\n",
       "3        happy     Tess/OAF_back_happy.wav\n",
       "4      neutral   Tess/OAF_back_neutral.wav\n",
       "...        ...                         ...\n",
       "2795      fear     Tess/YAF_youth_fear.wav\n",
       "2796     happy    Tess/YAF_youth_happy.wav\n",
       "2797   neutral  Tess/YAF_youth_neutral.wav\n",
       "2798  surprise       Tess/YAF_youth_ps.wav\n",
       "2799       sad      Tess/YAF_youth_sad.wav\n",
       "\n",
       "[2800 rows x 2 columns]"
      ]
     },
     "execution_count": 4,
     "metadata": {},
     "output_type": "execute_result"
    }
   ],
   "source": [
    "Tess = \"Tess\"\n",
    "\n",
    "tess_directory_list = os.listdir(Tess)\n",
    "\n",
    "file_emotion = []\n",
    "file_path = []\n",
    "\n",
    "for file in tess_directory_list:\n",
    "    part = file.split('.')[0].split('_')[2]\n",
    "    if part=='ps':\n",
    "        file_emotion.append('surprise')\n",
    "    else:\n",
    "        file_emotion.append(part)\n",
    "        \n",
    "    file_path.append(Tess + '/' + file)\n",
    "        \n",
    "# dataframe for emotion of files\n",
    "emotion_df = pd.DataFrame(file_emotion, columns=['Emotions'])\n",
    "\n",
    "# dataframe for path of files.\n",
    "path_df = pd.DataFrame(file_path, columns=['Path'])\n",
    "Tess_df = pd.concat([emotion_df, path_df], axis=1)\n",
    "Tess_df\n"
   ]
  },
  {
   "cell_type": "code",
   "execution_count": 5,
   "id": "2cf15b46",
   "metadata": {},
   "outputs": [],
   "source": [
    "# extract features from data\n",
    "mfcc_audios = []\n",
    "\n",
    "for path in Tess_df['Path']:\n",
    "    x , sr = librosa.load(path, sr=None)\n",
    "    mfcc = np.mean(librosa.feature.mfcc(y=x, sr=sr).T, axis=0)\n",
    "    \n",
    "    mfcc_audios.append(mfcc)\n",
    "    \n"
   ]
  },
  {
   "cell_type": "code",
   "execution_count": 6,
   "id": "b39be306",
   "metadata": {},
   "outputs": [
    {
     "data": {
      "text/plain": [
       "array([[-3.9003134e+02,  5.5235970e+01, -1.5034650e+01, ...,\n",
       "        -3.2613571e+00, -3.6698551e+00, -4.0404305e+00],\n",
       "       [-4.8661041e+02,  9.0023979e+01,  1.3257611e+01, ...,\n",
       "        -5.3382254e-01,  1.4373827e+00, -1.4682710e+00],\n",
       "       [-4.3724438e+02,  6.0606316e+01,  4.7354970e+00, ...,\n",
       "        -3.0597289e+00,  7.0483537e+00, -3.2661567e+00],\n",
       "       ...,\n",
       "       [-4.1281674e+02,  6.2643398e+01,  8.9996767e+00, ...,\n",
       "         9.0151281e+00, -1.3266459e+01, -4.3487201e+00],\n",
       "       [-3.7355783e+02,  3.8703201e+01, -3.6885612e+00, ...,\n",
       "         7.1812916e+00, -6.4076841e-02,  1.3013121e+00],\n",
       "       [-4.1227975e+02,  5.3551804e+01,  3.1432125e+01, ...,\n",
       "        -7.1320337e-01, -5.9225287e+00, -2.3588972e+00]], dtype=float32)"
      ]
     },
     "execution_count": 6,
     "metadata": {},
     "output_type": "execute_result"
    }
   ],
   "source": [
    "mfcc_audios = np.array(mfcc_audios)\n",
    "mfcc_audios"
   ]
  },
  {
   "cell_type": "code",
   "execution_count": null,
   "id": "4f010f50",
   "metadata": {},
   "outputs": [],
   "source": []
  },
  {
   "cell_type": "code",
   "execution_count": 16,
   "id": "abdef4aa",
   "metadata": {},
   "outputs": [
    {
     "data": {
      "text/plain": [
       "(2800, 180)"
      ]
     },
     "execution_count": 16,
     "metadata": {},
     "output_type": "execute_result"
    }
   ],
   "source": [
    "def get_delta_features(mfccs):\n",
    "    delta_mfccs = librosa.feature.delta(mfccs)\n",
    "    delta2_mfccs = librosa.feature.delta(mfccs, order=2)\n",
    "    mfccs_features = np.concatenate((mfccs, delta_mfccs, delta2_mfccs),axis=1)\n",
    "    return mfccs_features\n",
    "\n",
    "mfcc_audios = get_delta_features(mfcc_audios)\n",
    "mfcc_audios.shape\n"
   ]
  },
  {
   "cell_type": "code",
   "execution_count": 17,
   "id": "84cf4ebe",
   "metadata": {},
   "outputs": [
    {
     "data": {
      "text/plain": [
       "array([[-6.6538781e-01,  4.5902681e-01, -3.0711496e-01, ...,\n",
       "        -1.9879920e-04, -1.9879920e-04, -1.9879920e-04],\n",
       "       [-8.3015031e-01,  7.4812520e-01,  2.7081513e-01, ...,\n",
       "         1.5049429e-01,  1.5049429e-01,  1.5049429e-01],\n",
       "       [-7.4593258e-01,  5.0365597e-01,  9.6732676e-02, ...,\n",
       "         3.0856597e-01,  3.0856597e-01,  3.0856597e-01],\n",
       "       ...,\n",
       "       [-7.0425940e-01,  5.2058470e-01,  1.8383768e-01, ...,\n",
       "         2.6869603e-02,  2.6869603e-02,  2.6869603e-02],\n",
       "       [-6.3728422e-01,  3.2163474e-01, -7.5346768e-02, ...,\n",
       "        -5.9018925e-02, -5.9018925e-02, -5.9018925e-02],\n",
       "       [-7.0334327e-01,  4.4503093e-01,  6.4206851e-01, ...,\n",
       "        -9.7627394e-02, -9.7627394e-02, -9.7627394e-02]], dtype=float32)"
      ]
     },
     "execution_count": 17,
     "metadata": {},
     "output_type": "execute_result"
    }
   ],
   "source": [
    "# scale features\n",
    "scaler = preprocessing.MaxAbsScaler()\n",
    "X = scaler.fit_transform(mfcc_audios)\n"
   ]
  },
  {
   "cell_type": "code",
   "execution_count": 56,
   "id": "91388d4c",
   "metadata": {},
   "outputs": [],
   "source": [
    "y = np.array(Tess_df['Emotions'])\n",
    "\n",
    "# dimensionality reduction\n",
    "X_dr = PCA(n_components=30).fit_transform(X,y)\n"
   ]
  },
  {
   "cell_type": "code",
   "execution_count": 57,
   "id": "0fce5afd",
   "metadata": {},
   "outputs": [],
   "source": [
    "X_train, X_test, y_train, y_test = train_test_split(X_dr, y, test_size=0.2)"
   ]
  },
  {
   "cell_type": "code",
   "execution_count": 63,
   "id": "0655322d",
   "metadata": {},
   "outputs": [
    {
     "name": "stdout",
     "output_type": "stream",
     "text": [
      "Accuracy: 0.9892857142857143\n",
      "Classification Report:\n",
      "               precision    recall  f1-score   support\n",
      "\n",
      "       angry       1.00      0.99      0.99        91\n",
      "     disgust       0.99      1.00      0.99        82\n",
      "        fear       0.99      0.99      0.99        71\n",
      "       happy       0.99      0.96      0.97        80\n",
      "     neutral       0.99      1.00      0.99        85\n",
      "         sad       1.00      1.00      1.00        77\n",
      "    surprise       0.97      0.99      0.98        74\n",
      "\n",
      "    accuracy                           0.99       560\n",
      "   macro avg       0.99      0.99      0.99       560\n",
      "weighted avg       0.99      0.99      0.99       560\n",
      "\n"
     ]
    }
   ],
   "source": [
    "# # using logistic regression\n",
    "# clf = LogisticRegression(multi_class='auto', solver='lbfgs', max_iter=1000)\n",
    "\n",
    "# # using decision tree \n",
    "# clf = DecisionTreeClassifier()\n",
    "\n",
    "# Using support vector machine classifier\n",
    "clf2 = svm.SVC(C=3)\n",
    "\n",
    "# using k-nearest-neighbours\n",
    "# clf = KNeighborsClassifier()\n",
    "# clf.fit(X_train, y_train)\n",
    "\n",
    "# #  using bagging ensemble learning\n",
    "clf3 = BaggingClassifier(estimator=svm.SVC(C=3),n_estimators=20, random_state=0)\n",
    "\n",
    "# using boosting ensemble\n",
    "# clf = GradientBoostingClassifier(n_estimators=100, learning_rate=1.0, max_depth=1, random_state=0)\n",
    "clf1 = HistGradientBoostingClassifier(max_iter=100)\n",
    "# # using voting \n",
    "clf = VotingClassifier(estimators=[('hgbc', clf1), ('svc', clf2), ('bgclf', clf3)], voting='hard')\n",
    "\n",
    "\n",
    "# using stacking ensemble learning\n",
    "# def get_stacking():\n",
    "#     # define the base models\n",
    "#     level0 = list()\n",
    "\n",
    "#     level0.append(('knn', KNeighborsClassifier()))\n",
    "#     level0.append(('svc', svm.SVC(C=3)))\n",
    "#     level0.append(('bagclf', BaggingClassifier(estimator=svm.SVC(C=3),n_estimators=20, random_state=0)))\n",
    "#     level0.append(('vboostclf', VotingClassifier(estimators=[('hgbc', clf1), ('svc', clf2), ('bgclf', clf3)], voting='hard')))\n",
    "#     # define meta learner model\n",
    "#     level1 = svm.SVC(C=3)\n",
    "#     # define the stacking ensemble\n",
    "#     model = StackingClassifier(estimators=level0, final_estimator=level1, cv=5)\n",
    "#     return model\n",
    "# clf = get_stacking()\n",
    "\n",
    "\n",
    "\n",
    "clf.fit(X_train, y_train)\n",
    "scores = cross_val_score(clf, X_train, y_train, cv=10)\n",
    "print(\"%0.4f accuracy with a standard deviation of %0.4f\" % (mean(scores), std(scores)))\n",
    "\n",
    "y_pred = clf.predict(X_test)\n",
    "report = classification_report(y_test, y_pred)\n",
    "print(\"Classification Report:\\n\", report)"
   ]
  },
  {
   "cell_type": "code",
   "execution_count": null,
   "id": "114e50e7",
   "metadata": {},
   "outputs": [],
   "source": [
    "# y_pred = clf.predict(X_test)\n",
    "# accuracy = accuracy_score(y_test, y_pred)\n",
    "\n",
    "\n",
    "# print(\"Accuracy:\", accuracy)\n",
    "# print(\"Classification Report:\\n\", report)\n",
    "\n",
    "# # # plot model performance for comparison\n",
    "# pyplot.boxplot(results, labels=names, showmeans=True)\n",
    "# pyplot.show()"
   ]
  },
  {
   "cell_type": "code",
   "execution_count": 18,
   "id": "59d8622a",
   "metadata": {},
   "outputs": [],
   "source": [
    "# # using neural networks\n",
    "# encoder = LabelEncoder()\n",
    "# encoder.fit(y)\n",
    "# encoded_y = encoder.transform(y)\n",
    "# dummy_y = np_utils.to_categorical(encoded_y)\n",
    "# encoded_y"
   ]
  }
 ],
 "metadata": {
  "kernelspec": {
   "display_name": "Python 3 (ipykernel)",
   "language": "python",
   "name": "python3"
  },
  "language_info": {
   "codemirror_mode": {
    "name": "ipython",
    "version": 3
   },
   "file_extension": ".py",
   "mimetype": "text/x-python",
   "name": "python",
   "nbconvert_exporter": "python",
   "pygments_lexer": "ipython3",
   "version": "3.10.7"
  }
 },
 "nbformat": 4,
 "nbformat_minor": 5
}
